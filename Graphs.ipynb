{
 "cells": [
  {
   "cell_type": "markdown",
   "id": "9ce8c4ec",
   "metadata": {},
   "source": [
    "# 1.Breadth First Traversal for a Graph"
   ]
  },
  {
   "cell_type": "code",
   "execution_count": 1,
   "id": "5ed56ea2",
   "metadata": {},
   "outputs": [
    {
     "name": "stdout",
     "output_type": "stream",
     "text": [
      "Breadth-First Traversal (starting from vertex 2):\n",
      "2 0 1 3 "
     ]
    }
   ],
   "source": [
    "from collections import defaultdict, deque\n",
    "\n",
    "class Graph:\n",
    "    def __init__(self):\n",
    "        self.graph = defaultdict(list)\n",
    "\n",
    "    def add_edge(self, u, v):\n",
    "        self.graph[u].append(v)\n",
    "        self.graph[v].append(u)\n",
    "\n",
    "    def bfs(self, start):\n",
    "        visited = set()\n",
    "        queue = deque()\n",
    "\n",
    "        visited.add(start)\n",
    "        queue.append(start)\n",
    "\n",
    "        while queue:\n",
    "            vertex = queue.popleft()\n",
    "            print(vertex, end=\" \")\n",
    "\n",
    "            for neighbor in self.graph[vertex]:\n",
    "                if neighbor not in visited:\n",
    "                    visited.add(neighbor)\n",
    "                    queue.append(neighbor)\n",
    "\n",
    "# Create a sample graph\n",
    "g = Graph()\n",
    "g.add_edge(0, 1)\n",
    "g.add_edge(0, 2)\n",
    "g.add_edge(1, 2)\n",
    "g.add_edge(2, 0)\n",
    "g.add_edge(2, 3)\n",
    "g.add_edge(3, 3)\n",
    "\n",
    "# Perform BFS starting from vertex 2\n",
    "print(\"Breadth-First Traversal (starting from vertex 2):\")\n",
    "g.bfs(2)\n"
   ]
  },
  {
   "cell_type": "markdown",
   "id": "8c254039",
   "metadata": {},
   "source": [
    "# 2.Depth First Traversal for a Graph"
   ]
  },
  {
   "cell_type": "code",
   "execution_count": 2,
   "id": "a1b5028f",
   "metadata": {},
   "outputs": [
    {
     "name": "stdout",
     "output_type": "stream",
     "text": [
      "Depth-First Traversal (starting from vertex 2):\n",
      "2 0 1 3 "
     ]
    }
   ],
   "source": [
    "from collections import defaultdict\n",
    "\n",
    "class Graph:\n",
    "    def __init__(self):\n",
    "        self.graph = defaultdict(list)\n",
    "\n",
    "    def add_edge(self, u, v):\n",
    "        self.graph[u].append(v)\n",
    "        self.graph[v].append(u)\n",
    "\n",
    "    def dfs(self, vertex, visited):\n",
    "        visited.add(vertex)\n",
    "        print(vertex, end=\" \")\n",
    "\n",
    "        for neighbor in self.graph[vertex]:\n",
    "            if neighbor not in visited:\n",
    "                self.dfs(neighbor, visited)\n",
    "\n",
    "    def dfs_traversal(self, start):\n",
    "        visited = set()\n",
    "        self.dfs(start, visited)\n",
    "\n",
    "# Create a sample graph\n",
    "g = Graph()\n",
    "g.add_edge(0, 1)\n",
    "g.add_edge(0, 2)\n",
    "g.add_edge(1, 2)\n",
    "g.add_edge(2, 0)\n",
    "g.add_edge(2, 3)\n",
    "g.add_edge(3, 3)\n",
    "\n",
    "# Perform DFS starting from vertex 2\n",
    "print(\"Depth-First Traversal (starting from vertex 2):\")\n",
    "g.dfs_traversal(2)\n"
   ]
  },
  {
   "cell_type": "markdown",
   "id": "1db4214f",
   "metadata": {},
   "source": [
    "# 3.Count the number of nodes at given level in a tree using BFS"
   ]
  },
  {
   "cell_type": "code",
   "execution_count": 3,
   "id": "0a1f02e4",
   "metadata": {},
   "outputs": [
    {
     "name": "stdout",
     "output_type": "stream",
     "text": [
      "Number of nodes at level 2: 4\n"
     ]
    }
   ],
   "source": [
    "from collections import deque\n",
    "\n",
    "class TreeNode:\n",
    "    def __init__(self, value):\n",
    "        self.value = value\n",
    "        self.left = None\n",
    "        self.right = None\n",
    "\n",
    "# Function to count nodes at a given level in a binary tree using BFS\n",
    "def count_nodes_at_level(root, target_level):\n",
    "    if not root:\n",
    "        return 0\n",
    "    \n",
    "    queue = deque()\n",
    "    queue.append((root, 0))  # Using a tuple to store both the node and its level\n",
    "    count = 0\n",
    "    \n",
    "    while queue:\n",
    "        node, level = queue.popleft()\n",
    "        \n",
    "        if level == target_level:\n",
    "            count += 1\n",
    "        \n",
    "        if node.left:\n",
    "            queue.append((node.left, level + 1))\n",
    "        if node.right:\n",
    "            queue.append((node.right, level + 1))\n",
    "    \n",
    "    return count\n",
    "\n",
    "# Create a sample binary tree\n",
    "root = TreeNode(1)\n",
    "root.left = TreeNode(2)\n",
    "root.right = TreeNode(3)\n",
    "root.left.left = TreeNode(4)\n",
    "root.left.right = TreeNode(5)\n",
    "root.right.left = TreeNode(6)\n",
    "root.right.right = TreeNode(7)\n",
    "\n",
    "# Example usage:\n",
    "level_to_count = 2  # Change this to the desired level\n",
    "count = count_nodes_at_level(root, level_to_count)\n",
    "print(f\"Number of nodes at level {level_to_count}:\", count)\n"
   ]
  },
  {
   "cell_type": "markdown",
   "id": "026317e8",
   "metadata": {},
   "source": [
    "# 4.Count number of trees in a forest"
   ]
  },
  {
   "cell_type": "code",
   "execution_count": 4,
   "id": "cac6e64e",
   "metadata": {
    "scrolled": true
   },
   "outputs": [
    {
     "name": "stdout",
     "output_type": "stream",
     "text": [
      "Number of trees in the forest: 5\n"
     ]
    }
   ],
   "source": [
    "from collections import defaultdict\n",
    "\n",
    "class Graph:\n",
    "    def __init__(self):\n",
    "        self.graph = defaultdict(list)\n",
    "\n",
    "    def add_edge(self, u, v):\n",
    "        self.graph[u].append(v)\n",
    "        self.graph[v].append(u)\n",
    "\n",
    "    def dfs(self, vertex, visited):\n",
    "        visited.add(vertex)\n",
    "\n",
    "        for neighbor in self.graph[vertex]:\n",
    "            if neighbor not in visited:\n",
    "                self.dfs(neighbor, visited)\n",
    "\n",
    "    def count_trees_in_forest(self):\n",
    "        visited = set()\n",
    "        num_trees = 0\n",
    "\n",
    "        for vertex in self.graph:\n",
    "            if vertex not in visited:\n",
    "                self.dfs(vertex, visited)\n",
    "                num_trees += 1\n",
    "\n",
    "        return num_trees\n",
    "\n",
    "# Create a sample forest\n",
    "forest = Graph()\n",
    "forest.add_edge(0, 1)\n",
    "forest.add_edge(2, 3)\n",
    "forest.add_edge(4, 5)\n",
    "forest.add_edge(6, 7)\n",
    "forest.add_edge(8, 9)\n",
    "\n",
    "# Example usage:\n",
    "num_trees = forest.count_trees_in_forest()\n",
    "print(\"Number of trees in the forest:\", num_trees)\n"
   ]
  },
  {
   "cell_type": "markdown",
   "id": "390f29f1",
   "metadata": {},
   "source": [
    "# 5.Detect Cycle in a Directed Graph"
   ]
  },
  {
   "cell_type": "code",
   "execution_count": 5,
   "id": "6a2d06c2",
   "metadata": {},
   "outputs": [
    {
     "name": "stdout",
     "output_type": "stream",
     "text": [
      "The graph contains a cycle.\n"
     ]
    }
   ],
   "source": [
    "from collections import defaultdict\n",
    "\n",
    "class Graph:\n",
    "    def __init__(self, vertices):\n",
    "        self.graph = defaultdict(list)\n",
    "        self.vertices = vertices\n",
    "\n",
    "    def add_edge(self, u, v):\n",
    "        self.graph[u].append(v)\n",
    "\n",
    "    def is_cyclic_util(self, vertex, visited, stack):\n",
    "        visited[vertex] = True\n",
    "        stack[vertex] = True\n",
    "\n",
    "        for neighbor in self.graph[vertex]:\n",
    "            if not visited[neighbor]:\n",
    "                if self.is_cyclic_util(neighbor, visited, stack):\n",
    "                    return True\n",
    "            elif stack[neighbor]:\n",
    "                return True\n",
    "\n",
    "        stack[vertex] = False\n",
    "        return False\n",
    "\n",
    "    def is_cyclic(self):\n",
    "        visited = [False] * self.vertices\n",
    "        stack = [False] * self.vertices\n",
    "\n",
    "        for vertex in range(self.vertices):\n",
    "            if not visited[vertex]:\n",
    "                if self.is_cyclic_util(vertex, visited, stack):\n",
    "                    return True\n",
    "\n",
    "        return False\n",
    "\n",
    "# Example usage:\n",
    "g = Graph(4)\n",
    "g.add_edge(0, 1)\n",
    "g.add_edge(0, 2)\n",
    "g.add_edge(1, 2)\n",
    "g.add_edge(2, 0)\n",
    "g.add_edge(2, 3)\n",
    "g.add_edge(3, 3)\n",
    "\n",
    "if g.is_cyclic():\n",
    "    print(\"The graph contains a cycle.\")\n",
    "else:\n",
    "    print(\"The graph does not contain a cycle.\")\n"
   ]
  },
  {
   "cell_type": "markdown",
   "id": "14d2aa05",
   "metadata": {},
   "source": [
    "# **Implement n-Queen’s Problem"
   ]
  },
  {
   "cell_type": "code",
   "execution_count": 6,
   "id": "14614053",
   "metadata": {},
   "outputs": [
    {
     "name": "stdout",
     "output_type": "stream",
     "text": [
      "Solution 1:\n",
      "..Q.\n",
      "Q...\n",
      "...Q\n",
      ".Q..\n",
      "\n",
      "Solution 2:\n",
      ".Q..\n",
      "...Q\n",
      "Q...\n",
      "..Q.\n",
      "\n"
     ]
    }
   ],
   "source": [
    "def is_safe(board, row, col, N):\n",
    "    # Check the left side of the current row\n",
    "    for i in range(col):\n",
    "        if board[row][i] == 1:\n",
    "            return False\n",
    "\n",
    "    # Check upper left diagonal\n",
    "    for i, j in zip(range(row, -1, -1), range(col, -1, -1)):\n",
    "        if board[i][j] == 1:\n",
    "            return False\n",
    "\n",
    "    # Check lower left diagonal\n",
    "    for i, j in zip(range(row, N, 1), range(col, -1, -1)):\n",
    "        if board[i][j] == 1:\n",
    "            return False\n",
    "\n",
    "    return True\n",
    "\n",
    "def solve_n_queens_util(board, col, N, solutions):\n",
    "    if col == N:\n",
    "        solutions.append([\"\".join([\"Q\" if cell else \".\" for cell in row]) for row in board])\n",
    "        return\n",
    "\n",
    "    for i in range(N):\n",
    "        if is_safe(board, i, col, N):\n",
    "            board[i][col] = 1\n",
    "            solve_n_queens_util(board, col + 1, N, solutions)\n",
    "            board[i][col] = 0\n",
    "\n",
    "def solve_n_queens(N):\n",
    "    board = [[0] * N for _ in range(N)]\n",
    "    solutions = []\n",
    "    solve_n_queens_util(board, 0, N, solutions)\n",
    "    return solutions\n",
    "\n",
    "# Example usage:\n",
    "n = 4  # Change N to the desired board size\n",
    "solutions = solve_n_queens(n)\n",
    "for i, solution in enumerate(solutions):\n",
    "    print(f\"Solution {i + 1}:\")\n",
    "    for row in solution:\n",
    "        print(row)\n",
    "    print()\n"
   ]
  },
  {
   "cell_type": "code",
   "execution_count": null,
   "id": "252614aa",
   "metadata": {},
   "outputs": [],
   "source": []
  }
 ],
 "metadata": {
  "kernelspec": {
   "display_name": "Python 3 (ipykernel)",
   "language": "python",
   "name": "python3"
  },
  "language_info": {
   "codemirror_mode": {
    "name": "ipython",
    "version": 3
   },
   "file_extension": ".py",
   "mimetype": "text/x-python",
   "name": "python",
   "nbconvert_exporter": "python",
   "pygments_lexer": "ipython3",
   "version": "3.10.9"
  }
 },
 "nbformat": 4,
 "nbformat_minor": 5
}
